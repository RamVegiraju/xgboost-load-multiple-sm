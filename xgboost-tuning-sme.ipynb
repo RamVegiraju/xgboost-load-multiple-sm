{
 "cells": [
  {
   "cell_type": "markdown",
   "id": "eb31d8c4-0435-4380-9acd-4f1397eaff9a",
   "metadata": {},
   "source": [
    "## Deploying Multiple Models on a Single Model Endpoint XGBoost"
   ]
  },
  {
   "cell_type": "markdown",
   "id": "e418aa15-994c-4766-b36a-9b231191b4d9",
   "metadata": {},
   "source": [
    "### Training\n",
    "\n",
    "This step is optional you can also create a model.tar.gz from your pre-trained model artifacts and skip to the Create Model portion of the notebook."
   ]
  },
  {
   "cell_type": "code",
   "execution_count": null,
   "id": "1600fbf5-a41f-4192-a83a-1ebe398e02f4",
   "metadata": {
    "tags": []
   },
   "outputs": [],
   "source": [
    "import boto3\n",
    "import sagemaker\n",
    "from sagemaker.estimator import Estimator\n",
    "\n",
    "boto_session = boto3.session.Session()\n",
    "region = boto_session.region_name\n",
    "\n",
    "sagemaker_session = sagemaker.Session()\n",
    "base_job_prefix = 'xgboost-example'\n",
    "role = sagemaker.get_execution_role()\n",
    "\n",
    "default_bucket = sagemaker_session.default_bucket()\n",
    "s3_prefix = base_job_prefix\n",
    "\n",
    "training_instance_type = 'ml.m5.xlarge'"
   ]
  },
  {
   "cell_type": "code",
   "execution_count": null,
   "id": "ffd65475-d63a-4cda-8e1a-c35bd0cd4b4e",
   "metadata": {},
   "outputs": [],
   "source": [
    "!aws s3 cp s3://sagemaker-sample-files/datasets/tabular/uci_abalone/train_csv/abalone_dataset1_train.csv ."
   ]
  },
  {
   "cell_type": "code",
   "execution_count": null,
   "id": "58a67c7a-dba6-4087-8fc1-99cb9a95462e",
   "metadata": {},
   "outputs": [],
   "source": [
    "!aws s3 cp abalone_dataset1_train.csv s3://{default_bucket}/xgboost-regression/train.csv"
   ]
  },
  {
   "cell_type": "code",
   "execution_count": null,
   "id": "22214ad8-1944-443b-afce-bfaace088882",
   "metadata": {},
   "outputs": [],
   "source": [
    "from sagemaker.inputs import TrainingInput\n",
    "training_path = f's3://{default_bucket}/xgboost-regression/train.csv'\n",
    "train_input = TrainingInput(training_path, content_type=\"text/csv\")"
   ]
  },
  {
   "cell_type": "code",
   "execution_count": null,
   "id": "f7a25874-ad5a-45bf-b9d4-78ca56283da0",
   "metadata": {},
   "outputs": [],
   "source": [
    "model_path = f's3://{default_bucket}/{s3_prefix}/xgb_model'\n",
    "\n",
    "image_uri = sagemaker.image_uris.retrieve(\n",
    "    framework=\"xgboost\",\n",
    "    region=region,\n",
    "    version=\"1.0-1\",\n",
    "    py_version=\"py3\",\n",
    "    instance_type=training_instance_type,\n",
    ")\n",
    "\n",
    "xgb_train = Estimator(\n",
    "    image_uri=image_uri,\n",
    "    instance_type=training_instance_type,\n",
    "    instance_count=1,\n",
    "    output_path=model_path,\n",
    "    sagemaker_session=sagemaker_session,\n",
    "    role=role\n",
    ")\n",
    "\n",
    "xgb_train.set_hyperparameters(\n",
    "    objective=\"reg:linear\",\n",
    "    num_round=50,\n",
    "    max_depth=5,\n",
    "    eta=0.2,\n",
    "    gamma=4,\n",
    "    min_child_weight=6,\n",
    "    subsample=0.7,\n",
    "    silent=0,\n",
    ")"
   ]
  },
  {
   "cell_type": "code",
   "execution_count": null,
   "id": "efdace36-22e3-4535-9125-99d6c2ecc5f0",
   "metadata": {},
   "outputs": [],
   "source": [
    "xgb_train.fit({'train': train_input})"
   ]
  },
  {
   "cell_type": "markdown",
   "id": "a818bc6f-2080-48ce-80a9-a7459ad7ea49",
   "metadata": {},
   "source": [
    "### Retrieve Model Artifacts and Make Copies\n",
    "\n",
    "Normally you'd have to retrieve the model artifacts for your specific training jobs, but in this case we just make copies of the trained model artifact as an example for setup."
   ]
  },
  {
   "cell_type": "code",
   "execution_count": null,
   "id": "def925df-9826-488b-8074-cb9f0c697abf",
   "metadata": {},
   "outputs": [],
   "source": [
    "model_artifacts = xgb_train.model_data\n",
    "model_artifacts"
   ]
  },
  {
   "cell_type": "code",
   "execution_count": null,
   "id": "7d2f3326-bb76-48f5-b23a-08f5147d0065",
   "metadata": {},
   "outputs": [],
   "source": [
    "!aws s3 cp {model_artifacts} model.tar.gz"
   ]
  },
  {
   "cell_type": "code",
   "execution_count": null,
   "id": "691691a7-f056-4c39-bf3f-eb53e8833aee",
   "metadata": {
    "tags": []
   },
   "outputs": [],
   "source": [
    "!tar -xf model.tar.gz #untar the trained model.tar.gz"
   ]
  },
  {
   "cell_type": "code",
   "execution_count": null,
   "id": "ac665f31-48e8-4a5f-9091-410f79955aeb",
   "metadata": {
    "tags": []
   },
   "outputs": [],
   "source": [
    "!rm model.tar.gz #remove tarball we will create a new one will all model artifacts"
   ]
  },
  {
   "cell_type": "code",
   "execution_count": null,
   "id": "033e1120-8f3a-4772-b96a-aee3d9e58345",
   "metadata": {
    "tags": []
   },
   "outputs": [],
   "source": [
    "!mkdir models #store the model artifacts in this local directory"
   ]
  },
  {
   "cell_type": "code",
   "execution_count": null,
   "id": "9f57104e-a814-41c1-b16a-1e3af5cc1430",
   "metadata": {},
   "outputs": [],
   "source": [
    "import shutil\n",
    "\n",
    "#make a 100 copies of the xgboost model for our new tar ball, we can change this to the number of models we are expecting\n",
    "for i in range(100):\n",
    "    shutil.copy2('xgboost-model', 'models/xgboost-model-{}'.format(i))"
   ]
  },
  {
   "cell_type": "code",
   "execution_count": null,
   "id": "cff4ec8b-fedc-4988-9407-4f98daa6ed58",
   "metadata": {
    "tags": []
   },
   "outputs": [],
   "source": [
    "!ls models #list out all models in the directory to verify 100 copies"
   ]
  },
  {
   "cell_type": "code",
   "execution_count": null,
   "id": "c2054bb8-122a-48d9-9eac-017605a93a4a",
   "metadata": {
    "tags": []
   },
   "outputs": [],
   "source": [
    "!tar -czvf model.tar.gz -C models . #create new tarball with all the model artifacts"
   ]
  },
  {
   "cell_type": "markdown",
   "id": "4b569198-3ee5-4106-bfc4-8847ab238bd0",
   "metadata": {},
   "source": [
    "### Create SageMaker Model Object"
   ]
  },
  {
   "cell_type": "code",
   "execution_count": null,
   "id": "b984228d-06fa-4084-b64f-6fd73166d58a",
   "metadata": {
    "tags": []
   },
   "outputs": [],
   "source": [
    "from sagemaker.xgboost import XGBoostModel\n",
    "import subprocess\n",
    "import boto3\n",
    "import sagemaker\n",
    "from sagemaker.estimator import Estimator\n",
    "\n",
    "boto_session = boto3.session.Session()\n",
    "region = boto_session.region_name\n",
    "\n",
    "sagemaker_session = sagemaker.Session()\n",
    "role= sagemaker.get_execution_role()"
   ]
  },
  {
   "cell_type": "code",
   "execution_count": null,
   "id": "a725e158-e57e-4508-84d1-ab11a9a84efb",
   "metadata": {
    "tags": []
   },
   "outputs": [],
   "source": [
    "model_url = sagemaker_session.upload_data(\n",
    "    path=\"model.tar.gz\", key_prefix=\"xgboost-multiple-models-tuning\"\n",
    ")"
   ]
  },
  {
   "cell_type": "code",
   "execution_count": null,
   "id": "803e32c5-d753-44df-ba61-c65a2c8f957f",
   "metadata": {
    "tags": []
   },
   "outputs": [],
   "source": [
    "print(\"Your model artifacts are store here: {}\".format(model_url))"
   ]
  },
  {
   "cell_type": "markdown",
   "id": "385b8fc1-e9f0-4c9d-af63-d958ea6eed5b",
   "metadata": {},
   "source": [
    "### SageMaker Endpoint Creation"
   ]
  },
  {
   "cell_type": "markdown",
   "id": "594ba6a4-a22e-49bb-a45d-75b151faceac",
   "metadata": {},
   "source": [
    "#### Untuned Endpoint Creation\n",
    "\n",
    "Default container settings nothing adjusted for this endpoint."
   ]
  },
  {
   "cell_type": "code",
   "execution_count": null,
   "id": "2113ab17-9b28-41a2-9183-e9567275eb2e",
   "metadata": {},
   "outputs": [],
   "source": [
    "xgb_estimator_untuned = XGBoostModel(model_data = model_url,\n",
    "                       entry_point= 'inference.py',\n",
    "                       role=role,\n",
    "                       framework_version='1.0-1')"
   ]
  },
  {
   "cell_type": "code",
   "execution_count": null,
   "id": "07e8e2e6-4be6-47d9-93b0-55885b0a5e9d",
   "metadata": {
    "tags": []
   },
   "outputs": [],
   "source": [
    "import time\n",
    "from time import gmtime, strftime\n",
    "endpoint_name = 'xgboost-untuned' + strftime(\"%Y-%m-%d-%H-%M-%S\", gmtime())\n",
    "xgb_estimator_untuned.deploy(instance_type=\"ml.c5.2xlarge\", initial_instance_count=1, endpoint_name = endpoint_name)"
   ]
  },
  {
   "cell_type": "markdown",
   "id": "8cfb6036-bdc5-4677-9d0d-3ff7d241d7ce",
   "metadata": {},
   "source": [
    "#### Tuned Endpoint Creation"
   ]
  },
  {
   "cell_type": "code",
   "execution_count": null,
   "id": "1f106001-3be4-4695-975f-ce5391f44507",
   "metadata": {
    "tags": []
   },
   "outputs": [],
   "source": [
    "xgb_estimator_tuned = XGBoostModel(model_data = model_url,\n",
    "                             entry_point= \"inference.py\",\n",
    "                             role=role,\n",
    "                             framework_version='1.0-1',\n",
    "                             env = {\"OMP_NUM_THREADS\": '1', \"SAGEMAKER_NUM_MODEL_WORKERS\": '2'})"
   ]
  },
  {
   "cell_type": "code",
   "execution_count": null,
   "id": "bacf5fba-ffef-46d7-bfd1-b12481290e17",
   "metadata": {
    "tags": []
   },
   "outputs": [],
   "source": [
    "endpoint_name_tuned = 'xgboost-tuned' + strftime(\"%Y-%m-%d-%H-%M-%S\", gmtime())\n",
    "xgb_estimator_tuned.deploy(instance_type=\"ml.c5.2xlarge\", initial_instance_count=1, endpoint_name = endpoint_name_tuned)"
   ]
  },
  {
   "cell_type": "markdown",
   "id": "77f26517-0a18-4307-b47f-00dc8cdfe6f5",
   "metadata": {},
   "source": [
    "### Sample Inference"
   ]
  },
  {
   "cell_type": "code",
   "execution_count": null,
   "id": "41ab419a-ea48-4aa5-818a-6b89e453857a",
   "metadata": {
    "tags": []
   },
   "outputs": [],
   "source": [
    "import boto3\n",
    "smr = boto3.client('sagemaker-runtime') #client for inference"
   ]
  },
  {
   "cell_type": "code",
   "execution_count": null,
   "id": "05458087-5976-409b-a5b4-82209809281b",
   "metadata": {
    "tags": []
   },
   "outputs": [],
   "source": [
    "untuned_endpoint_name = \"xgboost-untuned2023-03-07-03-02-56\"\n",
    "tuned_endpoint_name = \"xgboost-tuned2023-03-07-03-16-37\""
   ]
  },
  {
   "cell_type": "code",
   "execution_count": null,
   "id": "1b2b47eb-4cbd-44a1-a4e2-c45a75de9d6f",
   "metadata": {
    "tags": []
   },
   "outputs": [],
   "source": [
    "import json\n",
    "content_type = \"application/json\"\n",
    "inpPayload = b'.345,0.224414,.131102,0.042329,.279923,-0.110329,-0.099358,0.0'\n",
    "request_body = {\"input\": inpPayload.decode(\"utf-8\"), \n",
    "               \"models\": ['xgboost-model-0', 'xgboost-model-93', 'xgboost-model-69', 'xgboost-model-50',\n",
    "                         'xgboost-model-51', 'xgboost-model-52', 'xgboost-model-53', 'xgboost-model-54',\n",
    "                         'xgboost-model-55']}\n",
    "\n",
    "#Serialize data for endpoint\n",
    "data = json.loads(json.dumps(request_body))\n",
    "payload = json.dumps(data)\n",
    "payload"
   ]
  },
  {
   "cell_type": "code",
   "execution_count": null,
   "id": "9775e975-31f1-4a03-a310-b2d21736a101",
   "metadata": {
    "tags": []
   },
   "outputs": [],
   "source": [
    "response = smr.invoke_endpoint(\n",
    "    EndpointName=untuned_endpoint_name,\n",
    "    ContentType=\"application/json\",\n",
    "    Body=payload)\n",
    "\n",
    "#Parse results\n",
    "result = json.loads(response['Body'].read().decode())\n",
    "result"
   ]
  },
  {
   "cell_type": "code",
   "execution_count": null,
   "id": "d1e1b9d3-2412-4d96-9859-a025f9594f78",
   "metadata": {
    "tags": []
   },
   "outputs": [],
   "source": [
    "response = smr.invoke_endpoint(\n",
    "    EndpointName=tuned_endpoint_name,\n",
    "    ContentType=\"application/json\",\n",
    "    Body=payload)\n",
    "\n",
    "#Parse results\n",
    "result = json.loads(response['Body'].read().decode())\n",
    "result"
   ]
  },
  {
   "cell_type": "markdown",
   "id": "507752ba-c085-444a-acb8-58794e4462a6",
   "metadata": {},
   "source": [
    "### Sequential Test"
   ]
  },
  {
   "cell_type": "code",
   "execution_count": null,
   "id": "e1f67706-0851-493d-a947-391745611ee6",
   "metadata": {
    "tags": []
   },
   "outputs": [],
   "source": [
    "import numpy as np \n",
    "import datetime\n",
    "import math\n",
    "import time\n",
    "import matplotlib.pyplot as plt\n",
    "import random\n",
    "\n",
    "total_runs = 500\n",
    "\n",
    "client_times = []\n",
    "errors_list = []\n",
    "\n",
    "errors = 0\n",
    "\n",
    "cw_start = datetime.datetime.utcnow()\n",
    "\n",
    "content_type = \"application/json\" \n",
    "\n",
    "for _ in range(total_runs):\n",
    "    client_start = time.time()\n",
    "    response = smr.invoke_endpoint(\n",
    "        EndpointName=untuned_endpoint_name,\n",
    "        ContentType=content_type,\n",
    "        Body=payload)\n",
    "    client_end = time.time()\n",
    "    client_times.append((client_end - client_start)*1000)\n",
    "    \n",
    "cw_end = datetime.datetime.utcnow()    \n",
    "\n",
    "cw_duration = cw_end - cw_start \n",
    "duration_in_s = cw_duration.total_seconds() \n",
    "\n",
    "tps = total_runs/duration_in_s\n",
    "\n",
    "print('\\nErrors - {:.4f} out of {:.4f} total runs | {:.4f}% in {:.4f} seconds \\n'.format(errors, total_runs, (errors/total_runs)*100, duration_in_s))\n",
    "errors = 0\n",
    "\n",
    "print('\\nTPS: {:.4f}'.format(tps))\n",
    "    \n",
    "print('Client end-to-end latency percentiles:')\n",
    "client_avg = np.mean(client_times)\n",
    "client_p50 = np.percentile(client_times, 50)\n",
    "client_p90 = np.percentile(client_times, 90)\n",
    "client_p95 = np.percentile(client_times, 95)\n",
    "client_p100 = np.percentile(client_times, 100)\n",
    "print('Avg | P50 | P90 | P95 | P100')\n",
    "print('{:.4f} | {:.4f} | {:.4f} | {:.4f} | {:.4f} \\n'.format(client_avg, client_p50, client_p90, client_p95, client_p100))\n",
    "\n",
    "# Give 5 minute buffer to end\n",
    "cw_end += datetime.timedelta(minutes=5)"
   ]
  },
  {
   "cell_type": "code",
   "execution_count": null,
   "id": "daba2a62-d87e-46e7-be7e-56e17218bbc6",
   "metadata": {
    "tags": []
   },
   "outputs": [],
   "source": [
    "import numpy as np \n",
    "import datetime\n",
    "import math\n",
    "import time\n",
    "import matplotlib.pyplot as plt\n",
    "import random\n",
    "\n",
    "total_runs = 500\n",
    "\n",
    "client_times = []\n",
    "errors_list = []\n",
    "\n",
    "errors = 0\n",
    "\n",
    "cw_start = datetime.datetime.utcnow()\n",
    "\n",
    "content_type = \"application/json\" \n",
    "\n",
    "for _ in range(total_runs):\n",
    "    client_start = time.time()\n",
    "    response = smr.invoke_endpoint(\n",
    "        EndpointName=tuned_endpoint_name,\n",
    "        ContentType=content_type,\n",
    "        Body=payload)\n",
    "    client_end = time.time()\n",
    "    client_times.append((client_end - client_start)*1000)\n",
    "    \n",
    "cw_end = datetime.datetime.utcnow()    \n",
    "\n",
    "cw_duration = cw_end - cw_start \n",
    "duration_in_s = cw_duration.total_seconds() \n",
    "\n",
    "tps = total_runs/duration_in_s\n",
    "\n",
    "print('\\nErrors - {:.4f} out of {:.4f} total runs | {:.4f}% in {:.4f} seconds \\n'.format(errors, total_runs, (errors/total_runs)*100, duration_in_s))\n",
    "errors = 0\n",
    "\n",
    "print('\\nTPS: {:.4f}'.format(tps))\n",
    "    \n",
    "print('Client end-to-end latency percentiles:')\n",
    "client_avg = np.mean(client_times)\n",
    "client_p50 = np.percentile(client_times, 50)\n",
    "client_p90 = np.percentile(client_times, 90)\n",
    "client_p95 = np.percentile(client_times, 95)\n",
    "client_p100 = np.percentile(client_times, 100)\n",
    "print('Avg | P50 | P90 | P95 | P100')\n",
    "print('{:.4f} | {:.4f} | {:.4f} | {:.4f} | {:.4f} \\n'.format(client_avg, client_p50, client_p90, client_p95, client_p100))\n",
    "\n",
    "# Give 5 minute buffer to end\n",
    "cw_end += datetime.timedelta(minutes=5)"
   ]
  }
 ],
 "metadata": {
  "kernelspec": {
   "display_name": "conda_python3",
   "language": "python",
   "name": "conda_python3"
  },
  "language_info": {
   "codemirror_mode": {
    "name": "ipython",
    "version": 3
   },
   "file_extension": ".py",
   "mimetype": "text/x-python",
   "name": "python",
   "nbconvert_exporter": "python",
   "pygments_lexer": "ipython3",
   "version": "3.10.8"
  }
 },
 "nbformat": 4,
 "nbformat_minor": 5
}
