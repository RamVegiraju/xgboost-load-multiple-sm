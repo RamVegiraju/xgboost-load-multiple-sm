{
 "cells": [
  {
   "cell_type": "markdown",
   "id": "508eafda-ae8f-476b-a9fd-2cce7b4e6661",
   "metadata": {},
   "source": [
    "## Inference Recommender\n",
    "\n",
    "You can utilize Locust for quick tests to scale up to high TPS, but if you would like to get a holistic load test across various instances and hyperparameter combinations Inference Recommender simplifies this process. For Inference Recommender we give two objects: the model tarball and the sample payload tarball. Please also you have your inference script in this same directory if you have one."
   ]
  },
  {
   "cell_type": "markdown",
   "id": "19b45c1f-c2cf-4883-9441-db823807146d",
   "metadata": {},
   "source": [
    "### Create and Register Model"
   ]
  },
  {
   "cell_type": "code",
   "execution_count": null,
   "id": "89887e8a-2e51-4edb-856c-9ada2b501c0e",
   "metadata": {
    "tags": []
   },
   "outputs": [],
   "source": [
    "import time\n",
    "model_package_group_name = \"xgboost-multiple-models\" + str(round(time.time()))"
   ]
  },
  {
   "cell_type": "code",
   "execution_count": null,
   "id": "d01e0b0b-1e38-4f32-8f1e-837650d263c8",
   "metadata": {
    "tags": []
   },
   "outputs": [],
   "source": [
    "model_url = 'Add your model URL here'"
   ]
  },
  {
   "cell_type": "code",
   "execution_count": null,
   "id": "2e71de09-63af-4e95-bc00-cdc8622f286d",
   "metadata": {
    "tags": []
   },
   "outputs": [],
   "source": [
    "import sagemaker\n",
    "role = sagemaker.get_execution_role()\n",
    "session = sagemaker.Session()"
   ]
  },
  {
   "cell_type": "code",
   "execution_count": null,
   "id": "d806e1af-c9d3-4608-9a8c-4b7f68909053",
   "metadata": {
    "tags": []
   },
   "outputs": [],
   "source": [
    "from sagemaker.model import Model\n",
    "from sagemaker import image_uris\n",
    "\n",
    "model = Model(\n",
    "    model_data=model_url,\n",
    "    entry_point=\"inference.py\",\n",
    "    role=role,\n",
    "    image_uri = sagemaker.image_uris.retrieve(framework=\"xgboost\", region=\"us-east-1\", version=\"1.0-1\", py_version=\"py3\", \n",
    "                                              image_scope='inference'),\n",
    "    sagemaker_session=session\n",
    "    )"
   ]
  },
  {
   "cell_type": "markdown",
   "id": "ea035663-8960-416b-a0eb-ca8aaba334e3",
   "metadata": {},
   "source": [
    "#### Register Model (Optional Step)\n",
    "\n",
    "Can catalog your models in Model Registry"
   ]
  },
  {
   "cell_type": "code",
   "execution_count": null,
   "id": "d4e7f5c6-2545-4ccc-b7a4-20bd8b3cee63",
   "metadata": {
    "tags": []
   },
   "outputs": [],
   "source": [
    "model_package = model.register(\n",
    "    content_types=[\"application/json\"],\n",
    "    response_types=[\"application/json\"],\n",
    "    model_package_group_name=model_package_group_name,\n",
    "    image_uri=model.image_uri,\n",
    "    approval_status=\"Approved\",\n",
    "    framework=\"XGBOOST\"\n",
    ")"
   ]
  },
  {
   "cell_type": "markdown",
   "id": "82654d2a-c304-4b3d-97e4-ed0fe5681e64",
   "metadata": {},
   "source": [
    "### Upload Payload to S3"
   ]
  },
  {
   "cell_type": "code",
   "execution_count": null,
   "id": "d8f44dd7-57c1-4329-95c8-cdd93dd095b2",
   "metadata": {
    "tags": []
   },
   "outputs": [],
   "source": [
    "# replace with your sample payload\n",
    "payload = '{\"input\": \".345,0.224414,.131102,0.042329,.279923,-0.110329,-0.099358,0.0\", \"models\": [\"xgboost-model-0\", \"xgboost-model-93\", \"xgboost-model-69\", \"xgboost-model-50\", \"xgboost-model-51\", \"xgboost-model-52\", \"xgboost-model-53\", \"xgboost-model-54\", \"xgboost-model-55\"]}'"
   ]
  },
  {
   "cell_type": "code",
   "execution_count": null,
   "id": "9e4bbf6d-cd8c-4380-b782-4db6b4ce1952",
   "metadata": {
    "tags": []
   },
   "outputs": [],
   "source": [
    "with open(\"payload.json\", \"w\") as outfile:\n",
    "    outfile.write(payload)"
   ]
  },
  {
   "cell_type": "code",
   "execution_count": null,
   "id": "857dbcc7-a5f7-4f52-9e0a-342208d68096",
   "metadata": {
    "tags": []
   },
   "outputs": [],
   "source": [
    "payload_archive_name = \"payload.tar.gz\""
   ]
  },
  {
   "cell_type": "code",
   "execution_count": null,
   "id": "79194e0a-075d-4ff9-9a92-3c15ba984cc6",
   "metadata": {
    "tags": []
   },
   "outputs": [],
   "source": [
    "!tar -cvzf {payload_archive_name} payload.json"
   ]
  },
  {
   "cell_type": "code",
   "execution_count": null,
   "id": "0f53fd9d-e4d1-4ca4-b3ee-34f0ef1680db",
   "metadata": {
    "tags": []
   },
   "outputs": [],
   "source": [
    "sample_payload_url = session.upload_data(\n",
    "    path=payload_archive_name, key_prefix=\"xgboost-payload\"\n",
    ")"
   ]
  },
  {
   "cell_type": "code",
   "execution_count": null,
   "id": "7480313b-fd36-4d18-abfa-d6a29f366f40",
   "metadata": {
    "tags": []
   },
   "outputs": [],
   "source": [
    "sample_payload_url = 's3://sagemaker-us-east-1-474422712127/xgboost-payload/payload.tar.gz'"
   ]
  },
  {
   "cell_type": "code",
   "execution_count": null,
   "id": "95a342f2-c780-491a-951c-54f70634c717",
   "metadata": {
    "tags": []
   },
   "outputs": [],
   "source": [
    "sample_payload_url"
   ]
  },
  {
   "cell_type": "markdown",
   "id": "8198553c-dabb-429d-adcb-a6f5840e73f7",
   "metadata": {},
   "source": [
    "### Run a Default IR Job"
   ]
  },
  {
   "cell_type": "code",
   "execution_count": null,
   "id": "1aa20d4c-0031-45e1-8941-263fc8c3f5ac",
   "metadata": {
    "tags": []
   },
   "outputs": [],
   "source": [
    "# Can grab the job name when this API starts\n",
    "model_package.right_size(\n",
    "    sample_payload_url=sample_payload_url,\n",
    "    supported_content_types=[\"application/json\"],\n",
    "    supported_instance_types=[\"ml.c5.2xlarge\", \"ml.c5.4xlarge\", \"ml.c5.9xlarge\", \"ml.c5.18xlarge\", \"ml.r5d.24xlarge\",\n",
    "                             \"ml.r5d.2xlarge\", \"ml.r5d.4xlarge\", \"ml.m5d.2xlarge\", \"ml.m5d.4xlarge\", \"ml.m5d.24xlarge\"],\n",
    "    framework=\"XGBOOST\",\n",
    ")"
   ]
  },
  {
   "cell_type": "code",
   "execution_count": null,
   "id": "4f9f8ae0-348b-48d2-87c5-70624954515b",
   "metadata": {
    "tags": []
   },
   "outputs": [],
   "source": [
    "import boto3\n",
    "sm_client = boto3.client(service_name='sagemaker')"
   ]
  },
  {
   "cell_type": "code",
   "execution_count": null,
   "id": "09998c2e-a341-4cb5-a720-734e306dd9f2",
   "metadata": {
    "tags": []
   },
   "outputs": [],
   "source": [
    "job_name = 'Add your job name here' #this will be listed when you kick off a job with the right_size call\n",
    "inference_recommendation_res = sm_client.describe_inference_recommendations_job(JobName=job_name)\n",
    "print(inference_recommendation_res['InferenceRecommendations'])"
   ]
  },
  {
   "cell_type": "code",
   "execution_count": null,
   "id": "1a560c1f-ca3e-40b1-a656-392a6e98b12c",
   "metadata": {
    "tags": []
   },
   "outputs": [],
   "source": [
    "data = [\n",
    "    {**x[\"EndpointConfiguration\"], **x[\"ModelConfiguration\"], **x[\"Metrics\"]}\n",
    "    for x in inference_recommendation_res['InferenceRecommendations']\n",
    "]"
   ]
  },
  {
   "cell_type": "code",
   "execution_count": null,
   "id": "48da2898-0289-4cf3-ad63-99e65cfa8df6",
   "metadata": {
    "tags": []
   },
   "outputs": [],
   "source": [
    "import pandas as pd\n",
    "df = pd.DataFrame(data)\n",
    "dropFilter = df.filter([\"VariantName\"])\n",
    "df.drop(dropFilter, inplace=True, axis=1)\n",
    "pd.set_option(\"max_colwidth\", 400)\n",
    "df"
   ]
  },
  {
   "cell_type": "markdown",
   "id": "991a8f6e-2f4e-45f3-95d8-b30ce494344a",
   "metadata": {},
   "source": [
    "### Advanced Job"
   ]
  },
  {
   "cell_type": "code",
   "execution_count": 1,
   "id": "c8c3db5e-2a83-4a8d-872a-e63470e118f2",
   "metadata": {},
   "outputs": [],
   "source": [
    "from sagemaker.parameter import CategoricalParameter \n",
    "from sagemaker.inference_recommender.inference_recommender_mixin import (  \n",
    "    Phase,  \n",
    "    ModelLatencyThreshold \n",
    ") \n",
    "\n",
    "# Adjust this as needed\n",
    "hyperparameter_ranges = [ \n",
    "    { \n",
    "        \"instance_types\": CategoricalParameter([\"ml.c5.2xlarge\", \"ml.c5.4xlarge\"]), \n",
    "        'OMP_NUM_THREADS': CategoricalParameter(['1', '2', '3']),\n",
    "        \"SAGEMAKER_NUM_MODEL_WORKERS\": CategoricalParameter(['2', '3'])\n",
    "    } \n",
    "] \n",
    "\n",
    "phases = [ \n",
    "    Phase(duration_in_seconds=120, initial_number_of_users=2, spawn_rate=2), \n",
    "    Phase(duration_in_seconds=120, initial_number_of_users=6, spawn_rate=2) \n",
    "] \n",
    "\n",
    "model_latency_thresholds = [ \n",
    "    ModelLatencyThreshold(percentile=\"P95\", value_in_milliseconds=800) \n",
    "]"
   ]
  },
  {
   "cell_type": "code",
   "execution_count": null,
   "id": "a5cb5654-d4b4-45d3-8b40-ce01f1706d29",
   "metadata": {},
   "outputs": [],
   "source": [
    "model_package.right_size( \n",
    "    sample_payload_url=sample_payload_url, \n",
    "    supported_content_types=[\"application/json\"], \n",
    "    framework=\"XGBoost\", \n",
    "    job_duration_in_seconds=3600, \n",
    "    hyperparameter_ranges=hyperparameter_ranges, \n",
    "    phases=phases, # TrafficPattern \n",
    "    max_invocations=100, # StoppingConditions \n",
    "    model_latency_thresholds=model_latency_thresholds\n",
    ")"
   ]
  },
  {
   "cell_type": "code",
   "execution_count": null,
   "id": "c2d21978-dcb9-4614-848d-5a921d2d9672",
   "metadata": {},
   "outputs": [],
   "source": [
    "# Enter default or advanced job name here, this value is emitted at the top of the right size API call\n",
    "job_name = 'Enter your advanced job name here'\n",
    "inference_recommendation_res = sm_client.describe_inference_recommendations_job(JobName=job_name)\n",
    "\n",
    "\n",
    "data = [\n",
    "    {**x[\"EndpointConfiguration\"], **x[\"ModelConfiguration\"], **x[\"Metrics\"]}\n",
    "    for x in inference_recommendation_res['InferenceRecommendations']\n",
    "]"
   ]
  },
  {
   "cell_type": "code",
   "execution_count": null,
   "id": "856f68bf-c14f-49c5-8188-3f9f126cdf81",
   "metadata": {},
   "outputs": [],
   "source": [
    "import pandas as pd\n",
    "df = pd.DataFrame(data)\n",
    "dropFilter = df.filter([\"VariantName\"])\n",
    "df.drop(dropFilter, inplace=True, axis=1)\n",
    "pd.set_option(\"max_colwidth\", 400)\n",
    "df.head()"
   ]
  }
 ],
 "metadata": {
  "kernelspec": {
   "display_name": "conda_python3",
   "language": "python",
   "name": "conda_python3"
  },
  "language_info": {
   "codemirror_mode": {
    "name": "ipython",
    "version": 3
   },
   "file_extension": ".py",
   "mimetype": "text/x-python",
   "name": "python",
   "nbconvert_exporter": "python",
   "pygments_lexer": "ipython3",
   "version": "3.10.8"
  }
 },
 "nbformat": 4,
 "nbformat_minor": 5
}
